{
 "cells": [
  {
   "cell_type": "code",
   "execution_count": 99,
   "metadata": {},
   "outputs": [
    {
     "name": "stderr",
     "output_type": "stream",
     "text": [
      "Loading required package: carData\n",
      "\n",
      "Attaching package: 'car'\n",
      "\n",
      "The following object is masked from 'package:psych':\n",
      "\n",
      "    logit\n",
      "\n"
     ]
    }
   ],
   "source": [
    "library(corrplot)\n",
    "library(psych)\n",
    "library(pastecs)\n",
    "library(car)"
   ]
  },
  {
   "cell_type": "code",
   "execution_count": 100,
   "metadata": {},
   "outputs": [],
   "source": [
    "r <- read.csv(\"C:/Users/Michael/Desktop/bitcoin/Bitcoin.csv\", header=T, dec=\",\")"
   ]
  },
  {
   "cell_type": "code",
   "execution_count": 101,
   "metadata": {},
   "outputs": [
    {
     "data": {
      "text/html": [
       "<table>\n",
       "<thead><tr><th scope=col>mkt_Price</th><th scope=col>g_Trends</th><th scope=col>transactions</th><th scope=col>SP500</th></tr></thead>\n",
       "<tbody>\n",
       "\t<tr><td>77       </td><td>2        </td><td>101390828</td><td>16       </td></tr>\n",
       "\t<tr><td>85       </td><td>2        </td><td>102612806</td><td> 8       </td></tr>\n",
       "\t<tr><td>49       </td><td>2        </td><td>103904344</td><td> 5       </td></tr>\n",
       "\t<tr><td>57       </td><td>2        </td><td>105350036</td><td> 2       </td></tr>\n",
       "\t<tr><td>53       </td><td>2        </td><td>106880820</td><td> 3       </td></tr>\n",
       "\t<tr><td>50       </td><td>2        </td><td>108353021</td><td> 4       </td></tr>\n",
       "</tbody>\n",
       "</table>\n"
      ],
      "text/latex": [
       "\\begin{tabular}{llll}\n",
       " mkt\\_Price & g\\_Trends & transactions & SP500\\\\\n",
       "\\hline\n",
       "\t 77        & 2         & 101390828 & 16       \\\\\n",
       "\t 85        & 2         & 102612806 &  8       \\\\\n",
       "\t 49        & 2         & 103904344 &  5       \\\\\n",
       "\t 57        & 2         & 105350036 &  2       \\\\\n",
       "\t 53        & 2         & 106880820 &  3       \\\\\n",
       "\t 50        & 2         & 108353021 &  4       \\\\\n",
       "\\end{tabular}\n"
      ],
      "text/markdown": [
       "\n",
       "| mkt_Price | g_Trends | transactions | SP500 |\n",
       "|---|---|---|---|\n",
       "| 77        | 2         | 101390828 | 16        |\n",
       "| 85        | 2         | 102612806 |  8        |\n",
       "| 49        | 2         | 103904344 |  5        |\n",
       "| 57        | 2         | 105350036 |  2        |\n",
       "| 53        | 2         | 106880820 |  3        |\n",
       "| 50        | 2         | 108353021 |  4        |\n",
       "\n"
      ],
      "text/plain": [
       "     mkt_Price g_Trends transactions SP500\n",
       "[1,] 77        2        101390828    16   \n",
       "[2,] 85        2        102612806     8   \n",
       "[3,] 49        2        103904344     5   \n",
       "[4,] 57        2        105350036     2   \n",
       "[5,] 53        2        106880820     3   \n",
       "[6,] 50        2        108353021     4   "
      ]
     },
     "metadata": {},
     "output_type": "display_data"
    }
   ],
   "source": [
    "r <- as.data.frame(r)\n",
    "rr <- data.matrix(r[2:5])\n",
    "head(rr)"
   ]
  },
  {
   "cell_type": "code",
   "execution_count": 102,
   "metadata": {},
   "outputs": [],
   "source": [
    "y <- as.numeric(as.character(r$mkt_Price), na.action(r$mkt_Price))\n",
    "g_Trends <- as.numeric(as.character(r$g_Trends), na.action(r$g_Trends))\n",
    "transactions <- as.numeric(as.character(r$transactions), na.action(r$transactions))\n",
    "sp <- as.numeric(as.character(r$SP500), na.action(r$SP500))"
   ]
  },
  {
   "cell_type": "code",
   "execution_count": 103,
   "metadata": {},
   "outputs": [],
   "source": [
    "sd_y <- sd(y)\n",
    "mean_y <- mean(y)"
   ]
  },
  {
   "cell_type": "code",
   "execution_count": 104,
   "metadata": {},
   "outputs": [
    {
     "data": {
      "text/html": [
       "-0.857148236274675"
      ],
      "text/latex": [
       "-0.857148236274675"
      ],
      "text/markdown": [
       "-0.857148236274675"
      ],
      "text/plain": [
       "[1] -0.8571482"
      ]
     },
     "metadata": {},
     "output_type": "display_data"
    },
    {
     "data": {
      "text/html": [
       "<dl class=dl-horizontal>\n",
       "\t<dt>nbr.val</dt>\n",
       "\t\t<dd>185</dd>\n",
       "\t<dt>nbr.null</dt>\n",
       "\t\t<dd>0</dd>\n",
       "\t<dt>nbr.na</dt>\n",
       "\t\t<dd>0</dd>\n",
       "\t<dt>min</dt>\n",
       "\t\t<dd>370.4</dd>\n",
       "\t<dt>max</dt>\n",
       "\t\t<dd>19498.68333</dd>\n",
       "\t<dt>range</dt>\n",
       "\t\t<dd>19128.28333</dd>\n",
       "\t<dt>sum</dt>\n",
       "\t\t<dd>805245.9153607</dd>\n",
       "\t<dt>median</dt>\n",
       "\t\t<dd>3763.62604</dd>\n",
       "\t<dt>mean</dt>\n",
       "\t\t<dd>4352.68062357135</dd>\n",
       "\t<dt>SE.mean</dt>\n",
       "\t\t<dd>287.574507342315</dd>\n",
       "\t<dt>CI.mean.0.95</dt>\n",
       "\t\t<dd>567.3674044933</dd>\n",
       "\t<dt>var</dt>\n",
       "\t\t<dd>15299332.9955375</dd>\n",
       "\t<dt>std.dev</dt>\n",
       "\t\t<dd>3911.43618068063</dd>\n",
       "\t<dt>coef.var</dt>\n",
       "\t\t<dd>0.89862696552988</dd>\n",
       "</dl>\n"
      ],
      "text/latex": [
       "\\begin{description*}\n",
       "\\item[nbr.val] 185\n",
       "\\item[nbr.null] 0\n",
       "\\item[nbr.na] 0\n",
       "\\item[min] 370.4\n",
       "\\item[max] 19498.68333\n",
       "\\item[range] 19128.28333\n",
       "\\item[sum] 805245.9153607\n",
       "\\item[median] 3763.62604\n",
       "\\item[mean] 4352.68062357135\n",
       "\\item[SE.mean] 287.574507342315\n",
       "\\item[CI.mean.0.95] 567.3674044933\n",
       "\\item[var] 15299332.9955375\n",
       "\\item[std.dev] 3911.43618068063\n",
       "\\item[coef.var] 0.89862696552988\n",
       "\\end{description*}\n"
      ],
      "text/markdown": [
       "nbr.val\n",
       ":   185nbr.null\n",
       ":   0nbr.na\n",
       ":   0min\n",
       ":   370.4max\n",
       ":   19498.68333range\n",
       ":   19128.28333sum\n",
       ":   805245.9153607median\n",
       ":   3763.62604mean\n",
       ":   4352.68062357135SE.mean\n",
       ":   287.574507342315CI.mean.0.95\n",
       ":   567.3674044933var\n",
       ":   15299332.9955375std.dev\n",
       ":   3911.43618068063coef.var\n",
       ":   0.89862696552988\n",
       "\n"
      ],
      "text/plain": [
       "     nbr.val     nbr.null       nbr.na          min          max        range \n",
       "1.850000e+02 0.000000e+00 0.000000e+00 3.704000e+02 1.949868e+04 1.912828e+04 \n",
       "         sum       median         mean      SE.mean CI.mean.0.95          var \n",
       "8.052459e+05 3.763626e+03 4.352681e+03 2.875745e+02 5.673674e+02 1.529933e+07 \n",
       "     std.dev     coef.var \n",
       "3.911436e+03 8.986270e-01 "
      ]
     },
     "metadata": {},
     "output_type": "display_data"
    }
   ],
   "source": [
    "z <- (1000 - mean_y) / sd_y\n",
    "z\n",
    "stat.desc(y)"
   ]
  },
  {
   "cell_type": "code",
   "execution_count": 105,
   "metadata": {},
   "outputs": [
    {
     "data": {
      "text/html": [
       "0.804318517071021"
      ],
      "text/latex": [
       "0.804318517071021"
      ],
      "text/markdown": [
       "0.804318517071021"
      ],
      "text/plain": [
       "[1] 0.8043185"
      ]
     },
     "metadata": {},
     "output_type": "display_data"
    },
    {
     "data": {
      "text/html": [
       "0.195681482928979"
      ],
      "text/latex": [
       "0.195681482928979"
      ],
      "text/markdown": [
       "0.195681482928979"
      ],
      "text/plain": [
       "[1] 0.1956815"
      ]
     },
     "metadata": {},
     "output_type": "display_data"
    }
   ],
   "source": [
    "p_right <- 1 - pnorm(z)\n",
    "p_left <- pnorm(z)\n",
    "p_right\n",
    "p_left"
   ]
  },
  {
   "cell_type": "code",
   "execution_count": 106,
   "metadata": {},
   "outputs": [
    {
     "data": {
      "text/html": [
       "135.920073305526"
      ],
      "text/latex": [
       "135.920073305526"
      ],
      "text/markdown": [
       "135.920073305526"
      ],
      "text/plain": [
       "[1] 135.9201"
      ]
     },
     "metadata": {},
     "output_type": "display_data"
    }
   ],
   "source": [
    "ss <- ((z*sd_y)/287.574507342315)^2\n",
    "ss"
   ]
  },
  {
   "cell_type": "code",
   "execution_count": 107,
   "metadata": {},
   "outputs": [
    {
     "data": {
      "text/plain": [
       "pop_freq\n",
       "      [370,2.5e+03]  (2.5e+03,4.62e+03] (4.62e+03,6.75e+03] (6.75e+03,8.87e+03] \n",
       "                 75                  37                  28                  26 \n",
       " (8.87e+03,1.1e+04]  (1.1e+04,1.31e+04] (1.31e+04,1.52e+04] (1.52e+04,1.74e+04] \n",
       "                  6                   7                   3                   2 \n",
       "(1.74e+04,1.95e+04] \n",
       "                  1 "
      ]
     },
     "metadata": {},
     "output_type": "display_data"
    }
   ],
   "source": [
    "breaks <- seq(from=min(y),\n",
    "              to=max(y), length=10)\n",
    "pop_freq <- cut(y, breaks=breaks,\n",
    "                right=TRUE, include.lowest = TRUE)\n",
    "table(pop_freq)"
   ]
  },
  {
   "cell_type": "code",
   "execution_count": 108,
   "metadata": {},
   "outputs": [
    {
     "data": {
      "image/png": "[encoded data removed]",
      "text/plain": [
       "Plot with title \"Bitcoin Market Price\""
      ]
     },
     "metadata": {},
     "output_type": "display_data"
    }
   ],
   "source": [
    "plot(r$Week, y,\n",
    "     main = \"Bitcoin Market Price\",\n",
    "     xlab = \"Date\",\n",
    "     ylab = \"Price\")\n",
    "lines(y, col = 'blue')"
   ]
  },
  {
   "cell_type": "code",
   "execution_count": 109,
   "metadata": {},
   "outputs": [
    {
     "data": {
      "image/png": "[encoded data removed]",
      "text/plain": [
       "Plot with title \"Histogram of y\""
      ]
     },
     "metadata": {},
     "output_type": "display_data"
    }
   ],
   "source": [
    "hist(y, breaks=breaks, freq=FALSE)\n",
    "lines(density(y), lwd=3, col=\"blue\")"
   ]
  },
  {
   "cell_type": "code",
   "execution_count": 112,
   "metadata": {},
   "outputs": [
    {
     "data": {
      "text/html": [
       "<ol class=list-inline>\n",
       "\t<li>103</li>\n",
       "\t<li>106</li>\n",
       "</ol>\n"
      ],
      "text/latex": [
       "\\begin{enumerate*}\n",
       "\\item 103\n",
       "\\item 106\n",
       "\\end{enumerate*}\n"
      ],
      "text/markdown": [
       "1. 103\n",
       "2. 106\n",
       "\n",
       "\n"
      ],
      "text/plain": [
       "[1] 103 106"
      ]
     },
     "metadata": {},
     "output_type": "display_data"
    },
    {
     "data": {
      "text/html": [
       "<dl class=dl-horizontal>\n",
       "\t<dt>5%</dt>\n",
       "\t\t<dd>-1.00599433093311</dd>\n",
       "\t<dt>10%</dt>\n",
       "\t\t<dd>-0.996985875119858</dd>\n",
       "\t<dt>15%</dt>\n",
       "\t\t<dd>-0.959846065523189</dd>\n",
       "\t<dt>20%</dt>\n",
       "\t\t<dd>-0.945266764630677</dd>\n",
       "\t<dt>25%</dt>\n",
       "\t\t<dd>-0.921055708735725</dd>\n",
       "\t<dt>30%</dt>\n",
       "\t\t<dd>-0.875861364680432</dd>\n",
       "\t<dt>35%</dt>\n",
       "\t\t<dd>-0.811140618640815</dd>\n",
       "\t<dt>40%</dt>\n",
       "\t\t<dd>-0.587027179354823</dd>\n",
       "\t<dt>45%</dt>\n",
       "\t\t<dd>-0.309122783223055</dd>\n",
       "\t<dt>50%</dt>\n",
       "\t\t<dd>-0.150598030074173</dd>\n",
       "\t<dt>55%</dt>\n",
       "\t\t<dd>-0.0869751606460196</dd>\n",
       "\t<dt>60%</dt>\n",
       "\t\t<dd>0.0268927738481851</dd>\n",
       "\t<dt>65%</dt>\n",
       "\t\t<dd>0.401443636990498</dd>\n",
       "\t<dt>70%</dt>\n",
       "\t\t<dd>0.522269599979304</dd>\n",
       "\t<dt>75%</dt>\n",
       "\t\t<dd>0.602497846716388</dd>\n",
       "\t<dt>80%</dt>\n",
       "\t\t<dd>0.771283029678294</dd>\n",
       "\t<dt>85%</dt>\n",
       "\t\t<dd>0.983266895373303</dd>\n",
       "\t<dt>90%</dt>\n",
       "\t\t<dd>1.18018246060847</dd>\n",
       "\t<dt>95%</dt>\n",
       "\t\t<dd>1.80479540514969</dd>\n",
       "</dl>\n"
      ],
      "text/latex": [
       "\\begin{description*}\n",
       "\\item[5\\textbackslash{}\\%] -1.00599433093311\n",
       "\\item[10\\textbackslash{}\\%] -0.996985875119858\n",
       "\\item[15\\textbackslash{}\\%] -0.959846065523189\n",
       "\\item[20\\textbackslash{}\\%] -0.945266764630677\n",
       "\\item[25\\textbackslash{}\\%] -0.921055708735725\n",
       "\\item[30\\textbackslash{}\\%] -0.875861364680432\n",
       "\\item[35\\textbackslash{}\\%] -0.811140618640815\n",
       "\\item[40\\textbackslash{}\\%] -0.587027179354823\n",
       "\\item[45\\textbackslash{}\\%] -0.309122783223055\n",
       "\\item[50\\textbackslash{}\\%] -0.150598030074173\n",
       "\\item[55\\textbackslash{}\\%] -0.0869751606460196\n",
       "\\item[60\\textbackslash{}\\%] 0.0268927738481851\n",
       "\\item[65\\textbackslash{}\\%] 0.401443636990498\n",
       "\\item[70\\textbackslash{}\\%] 0.522269599979304\n",
       "\\item[75\\textbackslash{}\\%] 0.602497846716388\n",
       "\\item[80\\textbackslash{}\\%] 0.771283029678294\n",
       "\\item[85\\textbackslash{}\\%] 0.983266895373303\n",
       "\\item[90\\textbackslash{}\\%] 1.18018246060847\n",
       "\\item[95\\textbackslash{}\\%] 1.80479540514969\n",
       "\\end{description*}\n"
      ],
      "text/markdown": [
       "5%\n",
       ":   -1.0059943309331110%\n",
       ":   -0.99698587511985815%\n",
       ":   -0.95984606552318920%\n",
       ":   -0.94526676463067725%\n",
       ":   -0.92105570873572530%\n",
       ":   -0.87586136468043235%\n",
       ":   -0.81114061864081540%\n",
       ":   -0.58702717935482345%\n",
       ":   -0.30912278322305550%\n",
       ":   -0.15059803007417355%\n",
       ":   -0.086975160646019660%\n",
       ":   0.026892773848185165%\n",
       ":   0.40144363699049870%\n",
       ":   0.52226959997930475%\n",
       ":   0.60249784671638880%\n",
       ":   0.77128302967829485%\n",
       ":   0.98326689537330390%\n",
       ":   1.1801824606084795%\n",
       ":   1.80479540514969\n",
       "\n"
      ],
      "text/plain": [
       "         5%         10%         15%         20%         25%         30% \n",
       "-1.00599433 -0.99698588 -0.95984607 -0.94526676 -0.92105571 -0.87586136 \n",
       "        35%         40%         45%         50%         55%         60% \n",
       "-0.81114062 -0.58702718 -0.30912278 -0.15059803 -0.08697516  0.02689277 \n",
       "        65%         70%         75%         80%         85%         90% \n",
       " 0.40144364  0.52226960  0.60249785  0.77128303  0.98326690  1.18018246 \n",
       "        95% \n",
       " 1.80479541 "
      ]
     },
     "metadata": {},
     "output_type": "display_data"
    },
    {
     "data": {
      "image/png": "[encoded data removed]",
      "text/plain": [
       "plot without title"
      ]
     },
     "metadata": {},
     "output_type": "display_data"
    },
    {
     "data": {
      "image/png": "[encoded data removed]",
      "text/plain": [
       "Plot with title \"Histogram of y1\""
      ]
     },
     "metadata": {},
     "output_type": "display_data"
    }
   ],
   "source": [
    "y1 <- (y-mean_y)/sd_y\n",
    "qqPlot(y1)\n",
    "quantile(y1,probs = seq(0.05,0.95,0.05))\n",
    "hist(y1)"
   ]
  },
  {
   "cell_type": "code",
   "execution_count": 111,
   "metadata": {},
   "outputs": [
    {
     "data": {
      "image/png": "[encoded data removed]",
      "text/plain": [
       "Plot with title \"\""
      ]
     },
     "metadata": {},
     "output_type": "display_data"
    }
   ],
   "source": [
    "rr <- cor(rr)\n",
    "corrplot(rr, method = \"shade\")"
   ]
  },
  {
   "cell_type": "code",
   "execution_count": null,
   "metadata": {},
   "outputs": [],
   "source": []
  },
  {
   "cell_type": "code",
   "execution_count": null,
   "metadata": {},
   "outputs": [],
   "source": []
  },
  {
   "cell_type": "code",
   "execution_count": null,
   "metadata": {},
   "outputs": [],
   "source": []
  }
 ],
 "metadata": {
  "kernelspec": {
   "display_name": "R",
   "language": "R",
   "name": "ir"
  },
  "language_info": {
   "codemirror_mode": "r",
   "file_extension": ".r",
   "mimetype": "text/x-r-source",
   "name": "R",
   "pygments_lexer": "r",
   "version": "3.6.0"
  }
 },
 "nbformat": 4,
 "nbformat_minor": 2
}
