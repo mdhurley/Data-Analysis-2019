{
 "cells": [
  {
   "cell_type": "markdown",
   "metadata": {},
   "source": [
    "# Bitcoin-Public Trend Association Analysis"
   ]
  },
  {
   "cell_type": "markdown",
   "metadata": {},
   "source": [
    "## Load Packages"
   ]
  },
  {
   "cell_type": "code",
   "execution_count": 240,
   "metadata": {},
   "outputs": [],
   "source": [
    "library(corrplot)\n",
    "library(psych)\n",
    "library(pastecs)\n",
    "library(car)\n",
    "library(tseries)\n",
    "library(urca)"
   ]
  },
  {
   "cell_type": "markdown",
   "metadata": {},
   "source": [
    "## Load Data and Organize"
   ]
  },
  {
   "cell_type": "code",
   "execution_count": 217,
   "metadata": {},
   "outputs": [],
   "source": [
    "r <- read.csv(\"C:/Users/Michael/Desktop/bitcoin/Bitcoin.csv\", header=T, dec=\",\")"
   ]
  },
  {
   "cell_type": "code",
   "execution_count": 218,
   "metadata": {},
   "outputs": [
    {
     "data": {
      "text/html": [
       "<table>\n",
       "<thead><tr><th scope=col>mkt_Price</th><th scope=col>g_Trends</th><th scope=col>transactions</th><th scope=col>SP500</th></tr></thead>\n",
       "<tbody>\n",
       "\t<tr><td>77       </td><td>2        </td><td>101390828</td><td>16       </td></tr>\n",
       "\t<tr><td>85       </td><td>2        </td><td>102612806</td><td> 8       </td></tr>\n",
       "\t<tr><td>49       </td><td>2        </td><td>103904344</td><td> 5       </td></tr>\n",
       "\t<tr><td>57       </td><td>2        </td><td>105350036</td><td> 2       </td></tr>\n",
       "\t<tr><td>53       </td><td>2        </td><td>106880820</td><td> 3       </td></tr>\n",
       "\t<tr><td>50       </td><td>2        </td><td>108353021</td><td> 4       </td></tr>\n",
       "</tbody>\n",
       "</table>\n"
      ],
      "text/latex": [
       "\\begin{tabular}{llll}\n",
       " mkt\\_Price & g\\_Trends & transactions & SP500\\\\\n",
       "\\hline\n",
       "\t 77        & 2         & 101390828 & 16       \\\\\n",
       "\t 85        & 2         & 102612806 &  8       \\\\\n",
       "\t 49        & 2         & 103904344 &  5       \\\\\n",
       "\t 57        & 2         & 105350036 &  2       \\\\\n",
       "\t 53        & 2         & 106880820 &  3       \\\\\n",
       "\t 50        & 2         & 108353021 &  4       \\\\\n",
       "\\end{tabular}\n"
      ],
      "text/markdown": [
       "\n",
       "| mkt_Price | g_Trends | transactions | SP500 |\n",
       "|---|---|---|---|\n",
       "| 77        | 2         | 101390828 | 16        |\n",
       "| 85        | 2         | 102612806 |  8        |\n",
       "| 49        | 2         | 103904344 |  5        |\n",
       "| 57        | 2         | 105350036 |  2        |\n",
       "| 53        | 2         | 106880820 |  3        |\n",
       "| 50        | 2         | 108353021 |  4        |\n",
       "\n"
      ],
      "text/plain": [
       "     mkt_Price g_Trends transactions SP500\n",
       "[1,] 77        2        101390828    16   \n",
       "[2,] 85        2        102612806     8   \n",
       "[3,] 49        2        103904344     5   \n",
       "[4,] 57        2        105350036     2   \n",
       "[5,] 53        2        106880820     3   \n",
       "[6,] 50        2        108353021     4   "
      ]
     },
     "metadata": {},
     "output_type": "display_data"
    }
   ],
   "source": [
    "r <- as.data.frame(r)\n",
    "rr <- data.matrix(r[2:5])\n",
    "head(rr)"
   ]
  },
  {
   "cell_type": "code",
   "execution_count": 219,
   "metadata": {},
   "outputs": [],
   "source": [
    "y <- as.numeric(as.character(r$mkt_Price), na.action(r$mkt_Price))\n",
    "g_Trends <- as.numeric(as.character(r$g_Trends), na.action(r$g_Trends))\n",
    "transactions <- as.numeric(as.character(r$transactions), na.action(r$transactions))\n",
    "sp <- as.numeric(as.character(r$SP500), na.action(r$SP500))"
   ]
  },
  {
   "cell_type": "code",
   "execution_count": 220,
   "metadata": {},
   "outputs": [
    {
     "data": {
      "image/png": "[encoded data removed]",
      "text/plain": [
       "Plot with title \"Bitcoin Market Price\""
      ]
     },
     "metadata": {},
     "output_type": "display_data"
    }
   ],
   "source": [
    "plot(r$Week, y,\n",
    "     main = \"Bitcoin Market Price\",\n",
    "     xlab = \"Date\",\n",
    "     ylab = \"Price\")\n",
    "lines(y, col = 'blue')"
   ]
  },
  {
   "cell_type": "code",
   "execution_count": 221,
   "metadata": {},
   "outputs": [
    {
     "data": {
      "image/png": "[encoded data removed]",
      "text/plain": [
       "Plot with title \"Histogram of y\""
      ]
     },
     "metadata": {},
     "output_type": "display_data"
    }
   ],
   "source": [
    "breaks <- seq(from=min(y),\n",
    "              to=max(y), length=10)\n",
    "pop_freq <- cut(y, breaks=breaks,\n",
    "                right=TRUE, include.lowest = TRUE)\n",
    "\n",
    "hist(y, breaks=breaks, freq=FALSE)\n",
    "lines(density(y), lwd=3, col=\"blue\")"
   ]
  },
  {
   "cell_type": "markdown",
   "metadata": {},
   "source": [
    "## Augmented Dicky-Fuller Tests"
   ]
  },
  {
   "cell_type": "code",
   "execution_count": 222,
   "metadata": {},
   "outputs": [
    {
     "data": {
      "text/plain": [
       "\n",
       "############################################### \n",
       "# Augmented Dickey-Fuller Test Unit Root Test # \n",
       "############################################### \n",
       "\n",
       "Test regression trend \n",
       "\n",
       "\n",
       "Call:\n",
       "lm(formula = z.diff ~ z.lag.1 + 1 + tt + z.diff.lag)\n",
       "\n",
       "Residuals:\n",
       "    Min      1Q  Median      3Q     Max \n",
       "-3758.2  -227.7   -54.8   108.0  4595.7 \n",
       "\n",
       "Coefficients:\n",
       "             Estimate Std. Error t value Pr(>|t|)  \n",
       "(Intercept)   4.28627  137.84707   0.031   0.9752  \n",
       "z.lag.1      -0.04963    0.02328  -2.132   0.0343 *\n",
       "tt            2.86928    1.69058   1.697   0.0914 .\n",
       "z.diff.lag    0.06607    0.07476   0.884   0.3780  \n",
       "---\n",
       "Signif. codes:  0 '***' 0.001 '**' 0.01 '*' 0.05 '.' 0.1 ' ' 1\n",
       "\n",
       "Residual standard error: 921 on 179 degrees of freedom\n",
       "Multiple R-squared:  0.02734,\tAdjusted R-squared:  0.01104 \n",
       "F-statistic: 1.677 on 3 and 179 DF,  p-value: 0.1736\n",
       "\n",
       "\n",
       "Value of test-statistic is: -2.1324 1.81 2.3605 \n",
       "\n",
       "Critical values for test statistics: \n",
       "      1pct  5pct 10pct\n",
       "tau3 -3.99 -3.43 -3.13\n",
       "phi2  6.22  4.75  4.07\n",
       "phi3  8.43  6.49  5.47\n"
      ]
     },
     "metadata": {},
     "output_type": "display_data"
    }
   ],
   "source": [
    "summary(ur.df(y, type = \"trend\", lags = 1, selectlags = c(\"Fixed\", \"AIC\", \"BIC\")))"
   ]
  },
  {
   "cell_type": "code",
   "execution_count": 223,
   "metadata": {},
   "outputs": [
    {
     "data": {
      "text/plain": [
       "\n",
       "############################################### \n",
       "# Augmented Dickey-Fuller Test Unit Root Test # \n",
       "############################################### \n",
       "\n",
       "Test regression none \n",
       "\n",
       "\n",
       "Call:\n",
       "lm(formula = z.diff ~ z.lag.1 - 1 + z.diff.lag)\n",
       "\n",
       "Residuals:\n",
       "   Min     1Q Median     3Q    Max \n",
       "-36.20  -0.42   0.12   1.25  41.62 \n",
       "\n",
       "Coefficients:\n",
       "           Estimate Std. Error t value Pr(>|t|)  \n",
       "z.lag.1    -0.06001    0.02500  -2.400   0.0174 *\n",
       "z.diff.lag  0.08022    0.07420   1.081   0.2811  \n",
       "---\n",
       "Signif. codes:  0 '***' 0.001 '**' 0.01 '*' 0.05 '.' 0.1 ' ' 1\n",
       "\n",
       "Residual standard error: 5.936 on 181 degrees of freedom\n",
       "Multiple R-squared:  0.03323,\tAdjusted R-squared:  0.02255 \n",
       "F-statistic: 3.111 on 2 and 181 DF,  p-value: 0.04695\n",
       "\n",
       "\n",
       "Value of test-statistic is: -2.4004 \n",
       "\n",
       "Critical values for test statistics: \n",
       "      1pct  5pct 10pct\n",
       "tau1 -2.58 -1.95 -1.62\n"
      ]
     },
     "metadata": {},
     "output_type": "display_data"
    }
   ],
   "source": [
    "summary(ur.df(g_Trends, type = \"none\", lags = 1))"
   ]
  },
  {
   "cell_type": "code",
   "execution_count": 224,
   "metadata": {},
   "outputs": [
    {
     "data": {
      "text/plain": [
       "\n",
       "############################################### \n",
       "# Augmented Dickey-Fuller Test Unit Root Test # \n",
       "############################################### \n",
       "\n",
       "Test regression none \n",
       "\n",
       "\n",
       "Call:\n",
       "lm(formula = z.diff ~ z.lag.1 - 1 + z.diff.lag)\n",
       "\n",
       "Residuals:\n",
       "    Min      1Q  Median      3Q     Max \n",
       "-479030  -58206   10638   82876  438824 \n",
       "\n",
       "Coefficients:\n",
       "            Estimate Std. Error t value Pr(>|t|)    \n",
       "z.lag.1    0.0001820  0.0001222    1.49    0.138    \n",
       "z.diff.lag 0.9744040  0.0182714   53.33   <2e-16 ***\n",
       "---\n",
       "Signif. codes:  0 '***' 0.001 '**' 0.01 '*' 0.05 '.' 0.1 ' ' 1\n",
       "\n",
       "Residual standard error: 144100 on 181 degrees of freedom\n",
       "Multiple R-squared:  0.994,\tAdjusted R-squared:  0.9939 \n",
       "F-statistic: 1.501e+04 on 2 and 181 DF,  p-value: < 2.2e-16\n",
       "\n",
       "\n",
       "Value of test-statistic is: 1.49 \n",
       "\n",
       "Critical values for test statistics: \n",
       "      1pct  5pct 10pct\n",
       "tau1 -2.58 -1.95 -1.62\n"
      ]
     },
     "metadata": {},
     "output_type": "display_data"
    }
   ],
   "source": [
    "summary(ur.df(transactions, type = \"none\", lags = 1))"
   ]
  },
  {
   "cell_type": "code",
   "execution_count": 225,
   "metadata": {},
   "outputs": [
    {
     "data": {
      "text/plain": [
       "\n",
       "############################################### \n",
       "# Augmented Dickey-Fuller Test Unit Root Test # \n",
       "############################################### \n",
       "\n",
       "Test regression none \n",
       "\n",
       "\n",
       "Call:\n",
       "lm(formula = z.diff ~ z.lag.1 - 1 + z.diff.lag)\n",
       "\n",
       "Residuals:\n",
       "     Min       1Q   Median       3Q      Max \n",
       "-170.521  -11.972    1.561   19.411   81.896 \n",
       "\n",
       "Coefficients:\n",
       "           Estimate Std. Error t value Pr(>|t|)   \n",
       "z.lag.1    0.001664   0.001023   1.627  0.10554   \n",
       "z.diff.lag 0.206148   0.071606   2.879  0.00447 **\n",
       "---\n",
       "Signif. codes:  0 '***' 0.001 '**' 0.01 '*' 0.05 '.' 0.1 ' ' 1\n",
       "\n",
       "Residual standard error: 34.25 on 181 degrees of freedom\n",
       "Multiple R-squared:  0.06512,\tAdjusted R-squared:  0.05479 \n",
       "F-statistic: 6.304 on 2 and 181 DF,  p-value: 0.002257\n",
       "\n",
       "\n",
       "Value of test-statistic is: 1.6267 \n",
       "\n",
       "Critical values for test statistics: \n",
       "      1pct  5pct 10pct\n",
       "tau1 -2.58 -1.95 -1.62\n"
      ]
     },
     "metadata": {},
     "output_type": "display_data"
    }
   ],
   "source": [
    "summary(ur.df(sp, type = \"none\", lags = 1))"
   ]
  },
  {
   "cell_type": "markdown",
   "metadata": {},
   "source": [
    "## Co-Integration Test"
   ]
  },
  {
   "cell_type": "code",
   "execution_count": 226,
   "metadata": {},
   "outputs": [
    {
     "data": {
      "text/plain": [
       "\n",
       "###################### \n",
       "# Johansen-Procedure # \n",
       "###################### \n",
       "\n",
       "Test type: trace statistic , with linear trend \n",
       "\n",
       "Eigenvalues (lambda):\n",
       "[1] 0.20372032 0.10537058 0.08051568 0.01065121\n",
       "\n",
       "Values of teststatistic and critical values of test:\n",
       "\n",
       "          test 10pct  5pct  1pct\n",
       "r <= 3 |  1.96  6.50  8.18 11.65\n",
       "r <= 2 | 17.32 15.66 17.95 23.52\n",
       "r <= 1 | 37.70 28.71 31.52 37.22\n",
       "r = 0  | 79.39 45.23 48.28 55.43\n",
       "\n",
       "Eigenvectors, normalised to first column:\n",
       "(These are the cointegration relations)\n",
       "\n",
       "                         y.l2   g_Trends.l2 transactions.l2        sp.l2\n",
       "y.l2             1.000000e+00  1.000000e+00    1.0000000000 1.000000e+00\n",
       "g_Trends.l2     -2.184263e+02  1.107575e+02   -7.1332587593 1.846422e+01\n",
       "transactions.l2 -1.361017e-05  7.911860e-05   -0.0003009878 6.175906e-05\n",
       "sp.l2           -3.324314e+00 -3.792399e+01   78.0669486383 4.049249e+00\n",
       "\n",
       "Weights W:\n",
       "(This is the loading matrix)\n",
       "\n",
       "                        y.l2   g_Trends.l2 transactions.l2         sp.l2\n",
       "y.d            -2.295928e-01 -0.0084298117   -7.327889e-03 -5.606778e-03\n",
       "g_Trends.d      4.253417e-04 -0.0003440846   -7.256636e-05 -3.973031e-05\n",
       "transactions.d -1.605951e+01 -2.9346027202   -3.386792e+00  4.208660e-01\n",
       "sp.d            3.187466e-03  0.0020034438   -5.394727e-04 -1.588249e-04\n"
      ]
     },
     "metadata": {},
     "output_type": "display_data"
    }
   ],
   "source": [
    "# Perform Johansen's Co-Integration longrun test\n",
    "jotest <- ca.jo(data.frame(y, g_Trends, transactions, sp), type = \"trace\", K=2, spec = \"longrun\")\n",
    "summary(jotest)"
   ]
  },
  {
   "cell_type": "markdown",
   "metadata": {},
   "source": [
    "## Correlation Analysis "
   ]
  },
  {
   "cell_type": "code",
   "execution_count": 227,
   "metadata": {},
   "outputs": [
    {
     "data": {
      "image/png": "[encoded data removed]",
      "text/plain": [
       "Plot with title \"\""
      ]
     },
     "metadata": {},
     "output_type": "display_data"
    }
   ],
   "source": [
    "rr <- cor(rr)\n",
    "corrplot(rr, method = \"shade\")"
   ]
  },
  {
   "cell_type": "code",
   "execution_count": 239,
   "metadata": {},
   "outputs": [
    {
     "data": {
      "text/plain": [
       "\n",
       "\tPearson's product-moment correlation\n",
       "\n",
       "data:  g_Trends and y\n",
       "t = 14.768, df = 183, p-value < 2.2e-16\n",
       "alternative hypothesis: true correlation is not equal to 0\n",
       "95 percent confidence interval:\n",
       " 0.6637460 0.7968944\n",
       "sample estimates:\n",
       "      cor \n",
       "0.7374027 \n"
      ]
     },
     "metadata": {},
     "output_type": "display_data"
    }
   ],
   "source": [
    "cor.test(g_Trends, y, method = \"pearson\")"
   ]
  },
  {
   "cell_type": "code",
   "execution_count": 237,
   "metadata": {},
   "outputs": [
    {
     "data": {
      "text/plain": [
       "\n",
       "\tKendall's rank correlation tau\n",
       "\n",
       "data:  g_Trends and y\n",
       "z = 13.973, p-value < 2.2e-16\n",
       "alternative hypothesis: true tau is not equal to 0\n",
       "sample estimates:\n",
       "      tau \n",
       "0.7179873 \n"
      ]
     },
     "metadata": {},
     "output_type": "display_data"
    }
   ],
   "source": [
    "cor.test(g_Trends, y, method = \"kendall\")"
   ]
  },
  {
   "cell_type": "code",
   "execution_count": null,
   "metadata": {},
   "outputs": [],
   "source": []
  },
  {
   "cell_type": "code",
   "execution_count": null,
   "metadata": {},
   "outputs": [],
   "source": []
  }
 ],
 "metadata": {
  "kernelspec": {
   "display_name": "R",
   "language": "R",
   "name": "ir"
  },
  "language_info": {
   "codemirror_mode": "r",
   "file_extension": ".r",
   "mimetype": "text/x-r-source",
   "name": "R",
   "pygments_lexer": "r",
   "version": "3.6.0"
  }
 },
 "nbformat": 4,
 "nbformat_minor": 2
}
