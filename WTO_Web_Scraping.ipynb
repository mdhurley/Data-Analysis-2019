{
 "cells": [
  {
   "cell_type": "code",
   "execution_count": 13,
   "metadata": {},
   "outputs": [],
   "source": [
    "import requests\n",
    "from bs4 import BeautifulSoup"
   ]
  },
  {
   "cell_type": "markdown",
   "metadata": {},
   "source": [
    "# Extract individual pieces of information from page"
   ]
  },
  {
   "cell_type": "code",
   "execution_count": 17,
   "metadata": {},
   "outputs": [
    {
     "name": "stdout",
     "output_type": "stream",
     "text": [
      "<tr class=\"rtlA\" id=\"ctl00_ctl00_ContentPlaceHolder1_ContentPlaceHolder2_RadPanelBarHeader_i0_ucMeasuresByProductCode1_rt_ctl03__1\">\n",
      " <td class=\"rtlL rtlL2\">\n",
      " </td>\n",
      " <td class=\" rtlCF\" colspan=\"1\">\n",
      "  S00\n",
      " </td>\n",
      " <td>\n",
      "  Measures without HS code\n",
      " </td>\n",
      " <td align=\"right\">\n",
      "  <span id=\"spanSps\" style=\"visibility:visible\">\n",
      "   <a href=\"LoadTableView.aspx?&amp;areacode=sps&amp;hscode=S00\">\n",
      "    5664\n",
      "   </a>\n",
      "  </span>\n",
      " </td>\n",
      " <td align=\"right\">\n",
      "  <span id=\"spanTbt\" style=\"visibility:visible\">\n",
      "   <a href=\"LoadTableView.aspx?&amp;areacode=tbt&amp;hscode=S00\">\n",
      "    10879\n",
      "   </a>\n",
      "  </span>\n",
      " </td>\n",
      " <td align=\"right\">\n",
      "  <span id=\"spanAdp\" style=\"visibility:visible\">\n",
      "   <a href=\"LoadTableView.aspx?&amp;areacode=adp&amp;hscode=S00\">\n",
      "    26\n",
      "   </a>\n",
      "  </span>\n",
      " </td>\n",
      " <td align=\"right\">\n",
      "  <span id=\"spanCv\" style=\"visibility:visible\">\n",
      "   <a href=\"LoadTableView.aspx?&amp;areacode=cv&amp;hscode=S00\">\n",
      "    7\n",
      "   </a>\n",
      "  </span>\n",
      " </td>\n",
      " <td align=\"right\">\n",
      "  <span id=\"spanSsg\" style=\"visibility:visible\">\n",
      "   <a href=\"LoadTableView.aspx?&amp;areacode=ssg&amp;hscode=S00\">\n",
      "    1\n",
      "   </a>\n",
      "  </span>\n",
      " </td>\n",
      " <td align=\"right\">\n",
      "  <span id=\"spanSg\" style=\"visibility:visible\">\n",
      "   <a href=\"LoadTableView.aspx?&amp;areacode=sg&amp;hscode=S00\">\n",
      "    40\n",
      "   </a>\n",
      "  </span>\n",
      " </td>\n",
      " <td align=\"right\">\n",
      "  <span id=\"spanQr\" style=\"visibility:visible\">\n",
      "   <a href=\"LoadTableView.aspx?&amp;areacode=qr&amp;hscode=S00\">\n",
      "    1\n",
      "   </a>\n",
      "  </span>\n",
      " </td>\n",
      " <td align=\"right\">\n",
      "  <span id=\"spanTrq\" style=\"visibility:visible\">\n",
      "   <a href=\"LoadTableView.aspx?&amp;areacode=trq&amp;hscode=S00\">\n",
      "    3\n",
      "   </a>\n",
      "  </span>\n",
      " </td>\n",
      " <td align=\"right\" class=\" rtlCL\">\n",
      "  <span id=\"spanXs\" style=\"visibility:visible\">\n",
      "   <a href=\"LoadTableView.aspx?&amp;areacode=xs&amp;hscode=S00\">\n",
      "    60\n",
      "   </a>\n",
      "  </span>\n",
      " </td>\n",
      "</tr>\n",
      "\n"
     ]
    }
   ],
   "source": [
    "page = requests.get(\"http://i-tip.wto.org/goods/Forms/ProductViewNew.aspx?mode=modify&action=search\")\n",
    "soup = BeautifulSoup(page.content, 'html.parser')\n",
    "ntb = soup.find(id=\"ctl00_ctl00_ContentPlaceHolder1_ContentPlaceHolder2_RadPanelBarHeader_i0_ucMeasuresByProductCode1_rt\")\n",
    "data = ntb.find_all(class_=\"rtlA\")\n",
    "data1 = data[0]\n",
    "print(data1.prettify())"
   ]
  },
  {
   "cell_type": "code",
   "execution_count": 11,
   "metadata": {},
   "outputs": [
    {
     "name": "stdout",
     "output_type": "stream",
     "text": [
      "S00\n"
     ]
    }
   ],
   "source": [
    "temp = data1.find(class_=\"rtlCF\").get_text()\n",
    "\n",
    "print(temp)"
   ]
  },
  {
   "cell_type": "code",
   "execution_count": 6,
   "metadata": {},
   "outputs": [
    {
     "name": "stdout",
     "output_type": "stream",
     "text": [
      "Tonight: Mostly cloudy, with a low around 55. Southwest wind around 13 mph. \n"
     ]
    }
   ],
   "source": [
    "img = tonight.find(\"img\")\n",
    "desc = img['title']\n",
    "\n",
    "print(desc)"
   ]
  },
  {
   "cell_type": "markdown",
   "metadata": {},
   "source": [
    "# Extract all information from page"
   ]
  },
  {
   "cell_type": "code",
   "execution_count": 10,
   "metadata": {},
   "outputs": [
    {
     "data": {
      "text/plain": [
       "['Tonight',\n",
       " 'Monday',\n",
       " 'MondayNight',\n",
       " 'Tuesday',\n",
       " 'TuesdayNight',\n",
       " 'Wednesday',\n",
       " 'WednesdayNight',\n",
       " 'Thursday',\n",
       " 'ThursdayNight']"
      ]
     },
     "execution_count": 10,
     "metadata": {},
     "output_type": "execute_result"
    }
   ],
   "source": [
    "period_tags = seven_day.select(\".tombstone-container .period-name\")\n",
    "periods = [pt.get_text() for pt in period_tags]\n",
    "periods"
   ]
  },
  {
   "cell_type": "code",
   "execution_count": 12,
   "metadata": {},
   "outputs": [
    {
     "name": "stdout",
     "output_type": "stream",
     "text": [
      "[]\n",
      "['Low: 55 °F', 'High: 64 °F', 'Low: 56 °F', 'High: 64 °F', 'Low: 56 °F', 'High: 64 °F', 'Low: 56 °F', 'High: 64 °F', 'Low: 55 °F']\n",
      "['Tonight: Mostly cloudy, with a low around 55. Southwest wind around 13 mph. ', 'Monday: Partly sunny, with a high near 64. West southwest wind 11 to 18 mph, with gusts as high as 23 mph. ', 'Monday Night: Mostly cloudy, with a low around 56. West southwest wind 10 to 17 mph, with gusts as high as 22 mph. ', 'Tuesday: Partly sunny, with a high near 64. West southwest wind 9 to 18 mph, with gusts as high as 23 mph. ', 'Tuesday Night: Mostly cloudy, with a low around 56. West southwest wind 11 to 18 mph, with gusts as high as 22 mph. ', 'Wednesday: Partly sunny, with a high near 64.', 'Wednesday Night: Mostly cloudy, with a low around 56.', 'Thursday: Mostly sunny, with a high near 64.', 'Thursday Night: Mostly cloudy, with a low around 55.']\n"
     ]
    }
   ],
   "source": [
    "short_descs = [sd.get_text() for sd in seven_day.select(\".tombstone-container .short_desc\")]\n",
    "temps = [t.get_text() for t in seven_day.select(\".tombstone-container .temp\")]\n",
    "descs = [d[\"title\"] for d in seven_day.select(\".tombstone-container img\")]\n",
    "\n",
    "print(short_descs)\n",
    "print(temps)\n",
    "print(descs)"
   ]
  },
  {
   "cell_type": "markdown",
   "metadata": {},
   "source": [
    "# Combining our data into a Pandas Dataframe"
   ]
  },
  {
   "cell_type": "code",
   "execution_count": 29,
   "metadata": {},
   "outputs": [
    {
     "data": {
      "text/html": [
       "<div>\n",
       "<style>\n",
       "    .dataframe thead tr:only-child th {\n",
       "        text-align: right;\n",
       "    }\n",
       "\n",
       "    .dataframe thead th {\n",
       "        text-align: left;\n",
       "    }\n",
       "\n",
       "    .dataframe tbody tr th {\n",
       "        vertical-align: top;\n",
       "    }\n",
       "</style>\n",
       "<table border=\"1\" class=\"dataframe\">\n",
       "  <thead>\n",
       "    <tr style=\"text-align: right;\">\n",
       "      <th></th>\n",
       "      <th>desc</th>\n",
       "      <th>period</th>\n",
       "      <th>temp</th>\n",
       "    </tr>\n",
       "  </thead>\n",
       "  <tbody>\n",
       "    <tr>\n",
       "      <th>0</th>\n",
       "      <td>Tonight: Mostly cloudy, with a low around 55. ...</td>\n",
       "      <td>Tonight</td>\n",
       "      <td>Low: 55 °F</td>\n",
       "    </tr>\n",
       "    <tr>\n",
       "      <th>1</th>\n",
       "      <td>Monday: Partly sunny, with a high near 64. Wes...</td>\n",
       "      <td>Monday</td>\n",
       "      <td>High: 64 °F</td>\n",
       "    </tr>\n",
       "    <tr>\n",
       "      <th>2</th>\n",
       "      <td>Monday Night: Mostly cloudy, with a low around...</td>\n",
       "      <td>MondayNight</td>\n",
       "      <td>Low: 56 °F</td>\n",
       "    </tr>\n",
       "    <tr>\n",
       "      <th>3</th>\n",
       "      <td>Tuesday: Partly sunny, with a high near 64. We...</td>\n",
       "      <td>Tuesday</td>\n",
       "      <td>High: 64 °F</td>\n",
       "    </tr>\n",
       "    <tr>\n",
       "      <th>4</th>\n",
       "      <td>Tuesday Night: Mostly cloudy, with a low aroun...</td>\n",
       "      <td>TuesdayNight</td>\n",
       "      <td>Low: 56 °F</td>\n",
       "    </tr>\n",
       "    <tr>\n",
       "      <th>5</th>\n",
       "      <td>Wednesday: Partly sunny, with a high near 64.</td>\n",
       "      <td>Wednesday</td>\n",
       "      <td>High: 64 °F</td>\n",
       "    </tr>\n",
       "    <tr>\n",
       "      <th>6</th>\n",
       "      <td>Wednesday Night: Mostly cloudy, with a low aro...</td>\n",
       "      <td>WednesdayNight</td>\n",
       "      <td>Low: 56 °F</td>\n",
       "    </tr>\n",
       "    <tr>\n",
       "      <th>7</th>\n",
       "      <td>Thursday: Mostly sunny, with a high near 64.</td>\n",
       "      <td>Thursday</td>\n",
       "      <td>High: 64 °F</td>\n",
       "    </tr>\n",
       "    <tr>\n",
       "      <th>8</th>\n",
       "      <td>Thursday Night: Mostly cloudy, with a low arou...</td>\n",
       "      <td>ThursdayNight</td>\n",
       "      <td>Low: 55 °F</td>\n",
       "    </tr>\n",
       "  </tbody>\n",
       "</table>\n",
       "</div>"
      ],
      "text/plain": [
       "                                                desc          period  \\\n",
       "0  Tonight: Mostly cloudy, with a low around 55. ...         Tonight   \n",
       "1  Monday: Partly sunny, with a high near 64. Wes...          Monday   \n",
       "2  Monday Night: Mostly cloudy, with a low around...     MondayNight   \n",
       "3  Tuesday: Partly sunny, with a high near 64. We...         Tuesday   \n",
       "4  Tuesday Night: Mostly cloudy, with a low aroun...    TuesdayNight   \n",
       "5      Wednesday: Partly sunny, with a high near 64.       Wednesday   \n",
       "6  Wednesday Night: Mostly cloudy, with a low aro...  WednesdayNight   \n",
       "7       Thursday: Mostly sunny, with a high near 64.        Thursday   \n",
       "8  Thursday Night: Mostly cloudy, with a low arou...   ThursdayNight   \n",
       "\n",
       "          temp  \n",
       "0   Low: 55 °F  \n",
       "1  High: 64 °F  \n",
       "2   Low: 56 °F  \n",
       "3  High: 64 °F  \n",
       "4   Low: 56 °F  \n",
       "5  High: 64 °F  \n",
       "6   Low: 56 °F  \n",
       "7  High: 64 °F  \n",
       "8   Low: 55 °F  "
      ]
     },
     "execution_count": 29,
     "metadata": {},
     "output_type": "execute_result"
    }
   ],
   "source": [
    "import pandas as pd\n",
    "weather = pd.DataFrame({\n",
    "        \"period\": periods,\n",
    "        \"temp\": temps, \n",
    "        \"desc\":descs\n",
    "    })\n",
    "weather"
   ]
  },
  {
   "cell_type": "code",
   "execution_count": 31,
   "metadata": {
    "scrolled": true
   },
   "outputs": [
    {
     "data": {
      "text/plain": [
       "0    55\n",
       "1    64\n",
       "2    56\n",
       "3    64\n",
       "4    56\n",
       "5    64\n",
       "6    56\n",
       "7    64\n",
       "8    55\n",
       "Name: temp_num, dtype: object"
      ]
     },
     "execution_count": 31,
     "metadata": {},
     "output_type": "execute_result"
    }
   ],
   "source": [
    "temp_nums = weather[\"temp\"].str.extract(\"(?P<temp_num>\\d+)\", expand=False)\n",
    "weather[\"temp_num\"] = temp_nums.astype('int')\n",
    "temp_nums"
   ]
  },
  {
   "cell_type": "code",
   "execution_count": 32,
   "metadata": {},
   "outputs": [
    {
     "data": {
      "text/plain": [
       "59.333333333333336"
      ]
     },
     "execution_count": 32,
     "metadata": {},
     "output_type": "execute_result"
    }
   ],
   "source": [
    "weather[\"temp_num\"].mean()"
   ]
  },
  {
   "cell_type": "code",
   "execution_count": 30,
   "metadata": {},
   "outputs": [
    {
     "data": {
      "text/plain": [
       "0     True\n",
       "1    False\n",
       "2     True\n",
       "3    False\n",
       "4     True\n",
       "5    False\n",
       "6     True\n",
       "7    False\n",
       "8     True\n",
       "Name: temp, dtype: bool"
      ]
     },
     "execution_count": 30,
     "metadata": {},
     "output_type": "execute_result"
    }
   ],
   "source": [
    "is_night = weather[\"temp\"].str.contains(\"Low\")\n",
    "weather[\"is_night\"] = is_night\n",
    "is_night"
   ]
  },
  {
   "cell_type": "code",
   "execution_count": null,
   "metadata": {},
   "outputs": [],
   "source": []
  }
 ],
 "metadata": {
  "kernelspec": {
   "display_name": "Python 3",
   "language": "python",
   "name": "python3"
  },
  "language_info": {
   "codemirror_mode": {
    "name": "ipython",
    "version": 3
   },
   "file_extension": ".py",
   "mimetype": "text/x-python",
   "name": "python",
   "nbconvert_exporter": "python",
   "pygments_lexer": "ipython3",
   "version": "3.7.3"
  }
 },
 "nbformat": 4,
 "nbformat_minor": 2
}
